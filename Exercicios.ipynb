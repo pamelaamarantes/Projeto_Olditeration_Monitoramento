{
 "cells": [
  {
   "cell_type": "code",
   "execution_count": 45,
   "id": "dfdfa799",
   "metadata": {},
   "outputs": [
    {
     "name": "stdout",
     "output_type": "stream",
     "text": [
      "Olá\n",
      "Mundo\n"
     ]
    }
   ],
   "source": [
    "print('Olá\\nMundo')"
   ]
  },
  {
   "cell_type": "code",
   "execution_count": 46,
   "id": "b7e7e75b",
   "metadata": {},
   "outputs": [
    {
     "name": "stdout",
     "output_type": "stream",
     "text": [
      "Digite seu nomePamela\n",
      "Olá Pamela\n"
     ]
    }
   ],
   "source": [
    "Nome = input('Digite seu nome')\n",
    "print('Olá {}'.format(Nome))"
   ]
  },
  {
   "cell_type": "markdown",
   "id": "f58db243",
   "metadata": {},
   "source": [
    "**Exercício 3**: \n",
    "Escreva um programa que peça por uma pontuação entre 0.0 e 1.0. Se a pontuação for fora do intervalo, mostre uma mensagem\n",
    "de erro. Se a pontuação estiver entre 0.0 e 1.0, mostre a respectiva nota usando a seguinte tabela Pontuação Nota\n",
    ">= 0.9 A\n",
    "\n",
    ">= 0.8 B\n",
    "\n",
    ">= 0.7 C\n",
    "\n",
    ">= 0.6 D\n",
    "\n",
    "< 0.6 "
   ]
  },
  {
   "cell_type": "code",
   "execution_count": 35,
   "id": "76317790",
   "metadata": {},
   "outputs": [
    {
     "name": "stdout",
     "output_type": "stream",
     "text": [
      "Informe seu nome:Pamela \n",
      "Digite a pontuação aqui: 0.7\n",
      "Pamela  ,a sua nota é C!\n",
      "Você foi aprovado.\n"
     ]
    }
   ],
   "source": [
    "nome = input('Informe seu nome:')\n",
    "pontuacao = float(input(\"Digite a pontuação aqui: \"))\n",
    "\n",
    "if pontuacao < 0.0 or pontuacao > 1.0:\n",
    "    print(nome, 'a pontuação deve estar entre 0.0 a 1.0')\n",
    "elif pontuacao >= 0.9:\n",
    "    print(nome,',a sua nota é A!\\nVocê foi aprovado.')\n",
    "elif pontuacao >= 0.8:\n",
    "    print(nome, ',a sua nota é B!\\nVocê foi aprovado.')\n",
    "elif pontuacao >= 0.7:\n",
    "    print(nome, \",a sua nota é C!\\nVocê foi aprovado.\")\n",
    "elif pontuacao >= 0.6:\n",
    "    print(nome, \",a sua nota é D!\\nVocê fou aprovado.\")\n",
    "else:\n",
    "    print(nome, \"Infelizmente, sua nota é F!\\nVocê foi reprovado.\")\n"
   ]
  },
  {
   "cell_type": "code",
   "execution_count": 36,
   "id": "1d746e54",
   "metadata": {},
   "outputs": [],
   "source": [
    "def obter_notas(pontuacao):\n",
    "    if pontuacao < 0.0 or pontuacao > 1.0:\n",
    "        return \"Erro: a pontuação deve estar entre 0.0 e 1.0\"\n",
    "    elif pontuacao >= 0.9:\n",
    "        return \"A sua nota é A\"\n",
    "    elif pontuacao >= 0.8:\n",
    "        return \"A sua nota é B\"\n",
    "    elif pontuacao >= 0.7:\n",
    "        return \"A sua nota é C\"\n",
    "    elif pontuacao >= 0.6:\n",
    "        return \"A sua nota é D\"\n",
    "    else:\n",
    "        return \"A sua nota é F\"\n"
   ]
  },
  {
   "cell_type": "code",
   "execution_count": 42,
   "id": "bee0008d",
   "metadata": {},
   "outputs": [
    {
     "name": "stdout",
     "output_type": "stream",
     "text": [
      "Informe seu nome:Pamela\n",
      "Digite a pontuação aqui: 1.1\n",
      "Informe seu nome:Pamela\n",
      "Digite a pontuação aqui: 0.9\n"
     ]
    }
   ],
   "source": [
    "while True:\n",
    "    nome = input('Informe seu nome:')  \n",
    "    pontuacao = float(input(\"Digite a pontuação aqui: \"))\n",
    "    resultado = obter_notas(pontuacao)\n",
    "    if resultado != 'Erro: a pontuação deve estar entre 0.0 e 1.0':\n",
    "        break\n",
    "        "
   ]
  },
  {
   "cell_type": "code",
   "execution_count": 37,
   "id": "7a3cc640",
   "metadata": {},
   "outputs": [
    {
     "name": "stdout",
     "output_type": "stream",
     "text": [
      "A sua nota é A\n",
      "A sua nota é A\n",
      "A sua nota é A\n",
      "A sua nota é A\n"
     ]
    }
   ],
   "source": [
    "for i in range(4):\n",
    "    obter_notas(pontuacao)\n",
    "    print(obter_notas(0.9))"
   ]
  },
  {
   "cell_type": "code",
   "execution_count": 39,
   "id": "7fc28d0c",
   "metadata": {},
   "outputs": [
    {
     "data": {
      "text/plain": [
       "True"
      ]
     },
     "execution_count": 39,
     "metadata": {},
     "output_type": "execute_result"
    }
   ],
   "source": [
    "5==5"
   ]
  },
  {
   "cell_type": "code",
   "execution_count": 22,
   "id": "8695e31e",
   "metadata": {},
   "outputs": [
    {
     "name": "stdout",
     "output_type": "stream",
     "text": [
      "A sua nota é B\n",
      "A sua nota é A\n",
      "Erro: a pontuação deve estar entre 0.0 e 1.0\n",
      "A sua nota é F\n"
     ]
    }
   ],
   "source": [
    "print(obter_notas(0.85))\n",
    "print(obter_notas(1.0))\n",
    "print(obter_notas(1.20))\n",
    "print(obter_notas(0.5))"
   ]
  },
  {
   "cell_type": "code",
   "execution_count": 19,
   "id": "b4edc56c",
   "metadata": {},
   "outputs": [
    {
     "name": "stdout",
     "output_type": "stream",
     "text": [
      "An exception occurred\n"
     ]
    }
   ],
   "source": [
    "try:\n",
    "  print(x)\n",
    "except:\n",
    "  print(\"An exception occurred\")"
   ]
  },
  {
   "cell_type": "markdown",
   "id": "befd8926",
   "metadata": {},
   "source": [
    "**Exercicios de Listas**"
   ]
  },
  {
   "cell_type": "markdown",
   "id": "34afdd6e",
   "metadata": {},
   "source": [
    "Primeira maneira"
   ]
  },
  {
   "cell_type": "code",
   "execution_count": 74,
   "id": "d15c1ec9",
   "metadata": {},
   "outputs": [
    {
     "name": "stdout",
     "output_type": "stream",
     "text": [
      "[8, 9, 22, 29, 40, 55, 90, 98, 104]\n"
     ]
    }
   ],
   "source": [
    "lista = [29, 22, 40, 55, 55, 90, 98, 104, 104, 8, 9, 9]\n",
    "novalista = list(set(lista))\n",
    "novalista.sort()\n",
    "print(novalista)"
   ]
  },
  {
   "cell_type": "markdown",
   "id": "5c773c8f",
   "metadata": {},
   "source": [
    "Segunda maneira"
   ]
  },
  {
   "cell_type": "code",
   "execution_count": 106,
   "id": "26b0cebd",
   "metadata": {},
   "outputs": [],
   "source": [
    "lista = [29, 22, 40, 55, 55, 90, 98, 104, 104, 8, 9, 9, 1, 1]\n",
    "\n",
    "nova_lista = []\n",
    "\n",
    "for elemento in lista:\n",
    "    if elemento not in nova_lista:\n",
    "        nova_lista.append(elemento)"
   ]
  },
  {
   "cell_type": "code",
   "execution_count": 107,
   "id": "50a82d64",
   "metadata": {},
   "outputs": [],
   "source": [
    "def remover_duplicadas(lista):\n",
    "    \"\"\"Remove os itens duplicados.\"\"\"\n",
    "    return list(set(lista))"
   ]
  },
  {
   "cell_type": "code",
   "execution_count": 108,
   "id": "1fd38fd5",
   "metadata": {},
   "outputs": [
    {
     "data": {
      "text/plain": [
       "[29, 22, 40, 55, 90, 98, 104, 8, 9, 1]"
      ]
     },
     "execution_count": 108,
     "metadata": {},
     "output_type": "execute_result"
    }
   ],
   "source": [
    "nova_lista"
   ]
  },
  {
   "cell_type": "markdown",
   "id": "e08daa58",
   "metadata": {},
   "source": [
    "Segundo exercicio "
   ]
  },
  {
   "cell_type": "code",
   "execution_count": 100,
   "id": "f3f4d0a5",
   "metadata": {},
   "outputs": [
    {
     "name": "stdout",
     "output_type": "stream",
     "text": [
      "[1, 3, 5, 7, 9, 11, 13]\n"
     ]
    }
   ],
   "source": [
    "lista1 = [1, 2, 3, 4, 5, 6, 7, 8, 9, 10, 11, 12, 13, 14]\n",
    "\n",
    "nova_lista1 = []\n",
    "\n",
    "for elemento in lista1:\n",
    "    if elemento % 2 != 0:\n",
    "        nova_lista1.append(elemento)\n",
    "\n",
    "print(nova_lista1)\n"
   ]
  },
  {
   "cell_type": "code",
   "execution_count": 109,
   "id": "43b12719",
   "metadata": {},
   "outputs": [],
   "source": [
    "def remover_pares(lista1):\n",
    "    \"Remove os numeros pares\"\n",
    "    nova_lista1 = []\n",
    "\n",
    "    for elemento in lista1:\n",
    "        if elemento % 2 != 0:\n",
    "            nova_lista1.append(elemento)\n",
    "    return list(set(nova_lista1))"
   ]
  },
  {
   "cell_type": "code",
   "execution_count": 103,
   "id": "364e86d8",
   "metadata": {},
   "outputs": [
    {
     "data": {
      "text/plain": [
       "[1, 3, 5, 7, 9, 11, 13]"
      ]
     },
     "execution_count": 103,
     "metadata": {},
     "output_type": "execute_result"
    }
   ],
   "source": [
    "nova_lista1"
   ]
  },
  {
   "cell_type": "markdown",
   "id": "d946f656",
   "metadata": {},
   "source": [
    "Exercicio 3"
   ]
  },
  {
   "cell_type": "markdown",
   "id": "8b6a027c",
   "metadata": {},
   "source": [
    "**Olá mundo**"
   ]
  },
  {
   "cell_type": "code",
   "execution_count": 91,
   "id": "711aa457",
   "metadata": {},
   "outputs": [],
   "source": [
    "def elemento_in(lista, indice):\n",
    "    return lista[indice]"
   ]
  },
  {
   "cell_type": "code",
   "execution_count": 110,
   "id": "8636d70a",
   "metadata": {},
   "outputs": [
    {
     "name": "stdout",
     "output_type": "stream",
     "text": [
      "O elemento na posição 8 da lista é: 30\n"
     ]
    }
   ],
   "source": [
    "minha_lista = [1, 2, 3, 4, 5, 'nttdata', 8, 10, 30, 'tv']\n",
    "indice = 8\n",
    "elemento = elemento_in(minha_lista, indice)\n",
    "print(f\"O elemento na posição {indice} da lista é: {elemento}\")\n"
   ]
  }
 ],
 "metadata": {
  "kernelspec": {
   "display_name": "Python 3.8 - AzureML",
   "language": "python",
   "name": "python38-azureml"
  },
  "language_info": {
   "codemirror_mode": {
    "name": "ipython",
    "version": 3
   },
   "file_extension": ".py",
   "mimetype": "text/x-python",
   "name": "python",
   "nbconvert_exporter": "python",
   "pygments_lexer": "ipython3",
   "version": "3.8.5"
  }
 },
 "nbformat": 4,
 "nbformat_minor": 5
}
